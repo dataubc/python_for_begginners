{
 "cells": [
  {
   "cell_type": "markdown",
   "metadata": {},
   "source": [
    "## Input/ output in Python :"
   ]
  },
  {
   "cell_type": "markdown",
   "metadata": {},
   "source": [
    "### In python 3 we can use the function input() to recieve the input from the user and print() to print the output\n",
    "#### The limiatation of input() that it can not span over more than one line, i.e it only reads inputs of the first line and can not scan the the following lines"
   ]
  },
  {
   "cell_type": "code",
   "execution_count": 11,
   "metadata": {},
   "outputs": [
    {
     "name": "stdin",
     "output_type": "stream",
     "text": [
      "What is you name, friend,?\n",
      " Mohammed\n"
     ]
    }
   ],
   "source": [
    "name = input('What is you name, friend,?\\n')"
   ]
  },
  {
   "cell_type": "markdown",
   "metadata": {},
   "source": [
    "### When you run the code, the question pops up, and the user writes the name, but then we see that nothing has happend after that. To see what the user printed then we need first to save the input to a varibale and then print that variable./"
   ]
  },
  {
   "cell_type": "code",
   "execution_count": 12,
   "metadata": {},
   "outputs": [
    {
     "name": "stdin",
     "output_type": "stream",
     "text": [
      "What is your age 30\n"
     ]
    }
   ],
   "source": [
    "age=65-int(input('What is your age'))\n"
   ]
  },
  {
   "cell_type": "code",
   "execution_count": 13,
   "metadata": {},
   "outputs": [
    {
     "name": "stdin",
     "output_type": "stream",
     "text": [
      "What is your city Edmonton\n",
      "who your favorite philosopher Kant\n"
     ]
    }
   ],
   "source": [
    "city = input('What is your city')+' and Canada'\n",
    "philosopher = input('who your favorite philosopher')\n"
   ]
  },
  {
   "cell_type": "markdown",
   "metadata": {},
   "source": [
    "Notice that input() will always read the inputs as string and if we want the input to be integer or float then we can use the fuction int() and flaot() to convert them, if you will be using the input as sring then it's ok just to leave it as it is.\n"
   ]
  },
  {
   "cell_type": "code",
   "execution_count": 14,
   "metadata": {},
   "outputs": [
    {
     "name": "stdout",
     "output_type": "stream",
     "text": [
      "    \n",
      "Hello, Mohammed you still have 35 years before retirement age,enjoy Edmonton and Canada and keep learning more about Kant\n",
      "    \n"
     ]
    }
   ],
   "source": [
    "print('    ')\n",
    "print('Hello,',name,'you still have',age,'years before retirement age,enjoy',city,'and keep learning more about',philosopher)\n",
    "print('    ')"
   ]
  },
  {
   "cell_type": "markdown",
   "metadata": {},
   "source": [
    "Gifts:\n",
    "------"
   ]
  },
  {
   "cell_type": "markdown",
   "metadata": {},
   "source": [
    "Use strip to get rid of all spaces and leave only the text"
   ]
  },
  {
   "cell_type": "code",
   "execution_count": 42,
   "metadata": {},
   "outputs": [
    {
     "name": "stdout",
     "output_type": "stream",
     "text": [
      "I like number 7\n"
     ]
    }
   ],
   "source": [
    "sentence = \"  I like number 7     \"\n",
    "\n",
    "sentence= sentence.strip()\n",
    "print (sentence)"
   ]
  },
  {
   "cell_type": "markdown",
   "metadata": {},
   "source": [
    "Simple Function :\n",
    "----------------"
   ]
  },
  {
   "cell_type": "code",
   "execution_count": 54,
   "metadata": {},
   "outputs": [],
   "source": [
    "# It will take a number and then print the result of multiplication of that number with 3"
   ]
  },
  {
   "cell_type": "code",
   "execution_count": 52,
   "metadata": {},
   "outputs": [
    {
     "name": "stdin",
     "output_type": "stream",
     "text": [
      " 3\n"
     ]
    },
    {
     "name": "stdout",
     "output_type": "stream",
     "text": [
      "9\n"
     ]
    }
   ],
   "source": [
    "def multiply(n):\n",
    "    # function to take an integer and multiply it by 3\n",
    "    print(3*n)\n",
    "\n",
    "if __name__ == '__main__':\n",
    "    n = int(input().strip())\n",
    "\n",
    "    fizzBuzz(n)\n"
   ]
  },
  {
   "cell_type": "markdown",
   "metadata": {},
   "source": [
    "More Sophisticated :\n",
    "------------------"
   ]
  },
  {
   "cell_type": "code",
   "execution_count": 55,
   "metadata": {},
   "outputs": [],
   "source": [
    "# Take a number that must be bigger than 0 but less than 20,000\n",
    "# apply for all numbers between 1 and that number \n",
    "# if the number is a multiplication of 3 and also 5 print FizzBuzz, if only it the the multiplication of 3 the print Fizz, but if it is only the\n",
    "# multiplication of 5 then print Buzz, else just print that number."
   ]
  },
  {
   "cell_type": "code",
   "execution_count": 53,
   "metadata": {},
   "outputs": [
    {
     "name": "stdin",
     "output_type": "stream",
     "text": [
      " 3\n"
     ]
    },
    {
     "name": "stdout",
     "output_type": "stream",
     "text": [
      "1\n",
      "2\n",
      "Fizz\n"
     ]
    }
   ],
   "source": [
    "def fizzBuzz(n):\n",
    "    # for the constraint\n",
    "    if n > 0 and n < 2*10**5:\n",
    "        for i in range(1,n+1):\n",
    "                if i % 3 == 0 and i % 5 == 0:\n",
    "                    print ('FizzBuzz')\n",
    "                elif i % 3 == 0:\n",
    "                    print ('Fizz')\n",
    "                elif i % 5 == 0:\n",
    "                    print ('Buzz')\n",
    "                else:\n",
    "                    print(i)\n",
    "\n",
    "    \n",
    "if __name__ == '__main__':\n",
    "    n = int(input().strip())\n",
    "\n",
    "    fizzBuzz(n)\n"
   ]
  }
 ],
 "metadata": {
  "kernelspec": {
   "display_name": "Python 3",
   "language": "python",
   "name": "python3"
  },
  "language_info": {
   "codemirror_mode": {
    "name": "ipython",
    "version": 3
   },
   "file_extension": ".py",
   "mimetype": "text/x-python",
   "name": "python",
   "nbconvert_exporter": "python",
   "pygments_lexer": "ipython3",
   "version": "3.7.6"
  }
 },
 "nbformat": 4,
 "nbformat_minor": 4
}
